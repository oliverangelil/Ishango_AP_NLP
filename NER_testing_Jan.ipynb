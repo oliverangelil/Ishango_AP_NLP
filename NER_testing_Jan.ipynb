{
 "cells": [
  {
   "cell_type": "code",
   "execution_count": 8,
   "id": "c73663b3",
   "metadata": {},
   "outputs": [],
   "source": [
    "from nltk import word_tokenize, pos_tag, ne_chunk\n",
    "from nltk.chunk import tree2conlltags"
   ]
  },
  {
   "cell_type": "code",
   "execution_count": 9,
   "id": "962c8b15",
   "metadata": {},
   "outputs": [],
   "source": [
    "sentence = \"Mark and John are working at Google Cloud.\"\n",
    "\n",
    "# Text from here https://www.africanews.com/2022/06/16/boom-in-egypt-innovation-ecosystem-business-africa/\n",
    "text = \"\"\"By the end of May 2022, total funds raised by African start-ups amounted to $2.7 billion. From January to May, funds raised by Egyptian start-ups increased by 212% compared to the same period last year.\n",
    "\n",
    "With $81 million raised as of May 2022, the value of investments raised by Egyptian start-ups is the highest in the MENA region, comprising North Africa and the Middle East. \n",
    "\n",
    "In addition to the government's commitment to establishing a favourable business climate, this growth is partly due to the presence of a strong and diversified entrepreneurial support infrastructure. \n",
    "\n",
    "To discuss this, Business Africa welcomes Tamer Azer, partner at Shorooq Partners, entrepreneur and company founder.\n",
    "\n",
    "Cameroon\n",
    "\n",
    "The deep water port of Kribi wants to develop its pole of attraction. Four years after the launch of its activities, it ranks among the most important contributors in terms of customs profits to the coffers of the Cameroonian state. \n",
    "\n",
    "With this in mind, a new platform has been launched. The objective is to place Kribi at the heart of the movement of goods in the Gulf of Guinea.\n",
    "\n",
    "Uganda\n",
    "\n",
    "Lake Victoria fishermen are being driven out of business by soaring fuel prices, while more than 5 million people across the country depend on the sector for their livelihood. Prices at the pump were 47% higher in May than in June last year, leading many fishermen to suspend their activities.\"\"\""
   ]
  },
  {
   "cell_type": "code",
   "execution_count": 10,
   "id": "feceff1a",
   "metadata": {},
   "outputs": [],
   "source": [
    "def get_iob_tags(text):\n",
    "    # This does the NER and returns a strange format (which is apparently a standard)\n",
    "    ne_tree = ne_chunk(pos_tag(word_tokenize(text)))\n",
    "    iob_tagged = tree2conlltags(ne_tree)\n",
    "    \n",
    "    return iob_tagged\n",
    "\n",
    "\n",
    "def combined_named_enitites(iob_tagged):\n",
    "    \n",
    "    # this selects the named entities and merges them if the are longer than 1 word\n",
    "    named_entities = []\n",
    "    \n",
    "    for name, _, tag in iob_tagged:\n",
    "        if tag == u\"O\": # This tag tells it is not a named entity\n",
    "            pass\n",
    "        elif tag[0] == u\"B\": # This tag tells that it is the beginning of an entity\n",
    "            named_entities.append((name, tag[2::]))\n",
    "        elif tag[0] == u\"I\": # This tag tells that it is an inner part of an entity (continuing word)\n",
    "            last = named_entities.pop()\n",
    "            named_entities.append((f\"{last[0]} {name}\", tag[2::]))\n",
    "            \n",
    "    return named_entities\n"
   ]
  },
  {
   "cell_type": "code",
   "execution_count": 11,
   "id": "ee505b5e",
   "metadata": {},
   "outputs": [
    {
     "data": {
      "text/plain": [
       "[('Mark', 'PERSON'), ('John', 'PERSON'), ('Google Cloud', 'ORGANIZATION')]"
      ]
     },
     "execution_count": 11,
     "metadata": {},
     "output_type": "execute_result"
    }
   ],
   "source": [
    "# Tags for the one sentence above\n",
    "iob_tags = get_iob_tags(sentence)\n",
    "combined_named_enitites(iob_tags)"
   ]
  },
  {
   "cell_type": "code",
   "execution_count": 12,
   "id": "05b40801",
   "metadata": {},
   "outputs": [
    {
     "data": {
      "text/plain": [
       "[('African', 'GPE'),\n",
       " ('Egyptian', 'GPE'),\n",
       " ('Egyptian', 'GPE'),\n",
       " ('MENA', 'ORGANIZATION'),\n",
       " ('North Africa', 'PERSON'),\n",
       " ('Middle East', 'GPE'),\n",
       " ('Business Africa', 'ORGANIZATION'),\n",
       " ('Tamer Azer', 'PERSON'),\n",
       " ('Shorooq Partners', 'ORGANIZATION'),\n",
       " ('Kribi', 'GPE'),\n",
       " ('Cameroonian', 'GPE'),\n",
       " ('Kribi', 'PERSON'),\n",
       " ('Guinea', 'GPE'),\n",
       " ('Uganda Lake Victoria', 'PERSON')]"
      ]
     },
     "execution_count": 12,
     "metadata": {},
     "output_type": "execute_result"
    }
   ],
   "source": [
    "# Tags for the long text extracted from the website\n",
    "iob_tags = get_iob_tags(text)\n",
    "combined_named_enitites(iob_tags)"
   ]
  },
  {
   "cell_type": "code",
   "execution_count": 13,
   "id": "1c30a88a",
   "metadata": {},
   "outputs": [
    {
     "name": "stdout",
     "output_type": "stream",
     "text": [
      "Mark and John are working at Google Cloud.\n",
      "[('Mark', 'PERSON'), ('John', 'PERSON'), ('Google Cloud', 'ORGANIZATION')]\n",
      "\n",
      "Mark and John are working at Google cloud.\n",
      "[('Mark', 'PERSON'), ('John', 'PERSON'), ('Google', 'ORGANIZATION')]\n",
      "\n",
      "Mark Johnson and John are working at Google Cloud.\n",
      "[('Mark', 'PERSON'), ('Johnson', 'PERSON'), ('John', 'PERSON'), ('Google Cloud', 'ORGANIZATION')]\n",
      "\n",
      "Mark Twain and John Travolta are working at Google Cloud.\n",
      "[('Mark', 'PERSON'), ('Twain', 'ORGANIZATION'), ('John Travolta', 'PERSON'), ('Google Cloud', 'ORGANIZATION')]\n",
      "\n",
      "Ishango people are having fun in Ghana\n",
      "[('Ishango', 'GPE'), ('Ghana', 'GPE')]\n",
      "\n"
     ]
    }
   ],
   "source": [
    "sentences = [\n",
    "    \"Mark and John are working at Google Cloud.\",\n",
    "    \"Mark and John are working at Google cloud.\",\n",
    "    \"Mark Johnson and John are working at Google Cloud.\",\n",
    "    \"Mark Twain and John Travolta are working at Google Cloud.\",\n",
    "    \"Ishango people are having fun in Ghana\"\n",
    "]\n",
    "\n",
    "for s in sentences:\n",
    "    print(s)\n",
    "    print(combined_named_enitites(get_iob_tags(s)))\n",
    "    print()"
   ]
  },
  {
   "cell_type": "code",
   "execution_count": 1,
   "id": "9155df29",
   "metadata": {},
   "outputs": [],
   "source": [
    "# same with bert"
   ]
  },
  {
   "cell_type": "code",
   "execution_count": 2,
   "id": "03b12caf",
   "metadata": {},
   "outputs": [],
   "source": [
    "from transformers import AutoTokenizer, AutoModelForTokenClassification\n",
    "from transformers import pipeline"
   ]
  },
  {
   "cell_type": "code",
   "execution_count": 17,
   "id": "6a6d6f84",
   "metadata": {},
   "outputs": [],
   "source": [
    "def combined_named_enitites_BERT(ner_results):\n",
    "    ner_results.sort(key = lambda x: x[\"index\"])\n",
    "    # this selects the named entities and merges them if the are longer than 1 word\n",
    "    named_entities = []\n",
    "    \n",
    "    for result in ner_results:\n",
    "        name = result[\"word\"]\n",
    "        tag = result[\"entity\"]\n",
    "        if tag == u\"O\": # This tag tells it is not a named entity\n",
    "            pass\n",
    "        elif tag[0] == u\"B\": # This tag tells that it is the beginning of an entity\n",
    "            named_entities.append((name, tag[2::]))\n",
    "        elif tag[0] == u\"I\": # This tag tells that it is an inner part of an entity (continuing word)\n",
    "            last = named_entities.pop()\n",
    "            named_entities.append((f\"{last[0]} {name}\", tag[2::]))\n",
    "            \n",
    "    return named_entities"
   ]
  },
  {
   "cell_type": "code",
   "execution_count": 3,
   "id": "3cd84808",
   "metadata": {},
   "outputs": [
    {
     "data": {
      "application/vnd.jupyter.widget-view+json": {
       "model_id": "f3e40ddf9e6c405789fbcfae29ee4688",
       "version_major": 2,
       "version_minor": 0
      },
      "text/plain": [
       "Downloading:   0%|          | 0.00/413M [00:00<?, ?B/s]"
      ]
     },
     "metadata": {},
     "output_type": "display_data"
    },
    {
     "name": "stdout",
     "output_type": "stream",
     "text": [
      "[{'entity': 'B-PER', 'score': 0.9990139, 'index': 4, 'word': 'Wolfgang', 'start': 11, 'end': 19}, {'entity': 'B-LOC', 'score': 0.999645, 'index': 9, 'word': 'Berlin', 'start': 34, 'end': 40}]\n"
     ]
    }
   ],
   "source": [
    "tokenizer = AutoTokenizer.from_pretrained(\"dslim/bert-base-NER\")\n",
    "model = AutoModelForTokenClassification.from_pretrained(\"dslim/bert-base-NER\")\n",
    "\n",
    "nlp = pipeline(\"ner\", model=model, tokenizer=tokenizer)\n"
   ]
  },
  {
   "cell_type": "code",
   "execution_count": 24,
   "id": "1511bcd3",
   "metadata": {},
   "outputs": [
    {
     "name": "stdout",
     "output_type": "stream",
     "text": [
      "Mark and John are working at Google Cloud.\n",
      "[{'entity': 'B-PER', 'score': 0.99951315, 'index': 1, 'word': 'Mark', 'start': 0, 'end': 4}, {'entity': 'B-PER', 'score': 0.99917334, 'index': 3, 'word': 'John', 'start': 9, 'end': 13}, {'entity': 'B-ORG', 'score': 0.9989568, 'index': 7, 'word': 'Google', 'start': 29, 'end': 35}, {'entity': 'I-ORG', 'score': 0.9968581, 'index': 8, 'word': 'Cloud', 'start': 36, 'end': 41}]\n"
     ]
    }
   ],
   "source": [
    "print(sentence)\n",
    "ner_results = nlp(sentence)\n",
    "print(ner_results)"
   ]
  },
  {
   "cell_type": "code",
   "execution_count": 19,
   "id": "a4e1b7c6",
   "metadata": {},
   "outputs": [
    {
     "data": {
      "text/plain": [
       "[('Mark', 'PER'), ('John', 'PER'), ('Google Cloud', 'ORG')]"
      ]
     },
     "execution_count": 19,
     "metadata": {},
     "output_type": "execute_result"
    }
   ],
   "source": [
    "combined_named_enitites_BERT(nlp(sentence))"
   ]
  },
  {
   "cell_type": "code",
   "execution_count": 22,
   "id": "08307ada",
   "metadata": {},
   "outputs": [
    {
     "data": {
      "text/plain": [
       "[('African', 'MISC'),\n",
       " ('Egyptian', 'MISC'),\n",
       " ('Egyptian', 'MISC'),\n",
       " ('ME ##NA', 'LOC'),\n",
       " ('North Africa', 'LOC'),\n",
       " ('Middle East', 'LOC'),\n",
       " ('Business Africa', 'ORG'),\n",
       " ('Tam', 'PER'),\n",
       " ('##er A ##zer', 'PER'),\n",
       " ('S ##hor ##oo ##q Partners', 'ORG'),\n",
       " ('Cameroon', 'LOC'),\n",
       " ('K ##ri ##bi', 'LOC'),\n",
       " ('Cameroon', 'MISC'),\n",
       " ('K ##ri ##bi', 'LOC'),\n",
       " ('Gulf of Guinea', 'LOC'),\n",
       " ('Uganda Lake Victoria', 'LOC')]"
      ]
     },
     "execution_count": 22,
     "metadata": {},
     "output_type": "execute_result"
    }
   ],
   "source": [
    "combined_named_enitites_BERT(nlp(text))"
   ]
  },
  {
   "cell_type": "code",
   "execution_count": 21,
   "id": "80c450bc",
   "metadata": {},
   "outputs": [
    {
     "name": "stdout",
     "output_type": "stream",
     "text": [
      "Mark and John are working at Google Cloud.\n",
      "[('Mark', 'PER'), ('John', 'PER'), ('Google Cloud', 'ORG')]\n",
      "\n",
      "Mark and John are working at Google cloud.\n",
      "[('Mark', 'PER'), ('John', 'PER'), ('Google', 'ORG')]\n",
      "\n",
      "Mark Johnson and John are working at Google Cloud.\n",
      "[('Mark Johnson', 'PER'), ('John', 'PER'), ('Google Cloud', 'ORG')]\n",
      "\n",
      "Mark Twain and John Travolta are working at Google Cloud.\n",
      "[('Mark T ##wain', 'PER'), ('John T ##ra ##vo ##lta', 'PER'), ('Google Cloud', 'ORG')]\n",
      "\n",
      "Ishango people are having fun in Ghana\n",
      "[('Ghana', 'LOC')]\n",
      "\n"
     ]
    }
   ],
   "source": [
    "for s in sentences:\n",
    "    print(s)\n",
    "    print(combined_named_enitites_BERT(nlp(s)))\n",
    "    print()"
   ]
  },
  {
   "cell_type": "code",
   "execution_count": null,
   "id": "9a09e130",
   "metadata": {},
   "outputs": [],
   "source": []
  }
 ],
 "metadata": {
  "kernelspec": {
   "display_name": "Python 3",
   "language": "python",
   "name": "python3"
  },
  "language_info": {
   "codemirror_mode": {
    "name": "ipython",
    "version": 3
   },
   "file_extension": ".py",
   "mimetype": "text/x-python",
   "name": "python",
   "nbconvert_exporter": "python",
   "pygments_lexer": "ipython3",
   "version": "3.8.8"
  }
 },
 "nbformat": 4,
 "nbformat_minor": 5
}
